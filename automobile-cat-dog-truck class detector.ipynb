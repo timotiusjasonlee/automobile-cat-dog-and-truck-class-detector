{
  "nbformat": 4,
  "nbformat_minor": 0,
  "metadata": {
    "colab": {
      "name": "UTSDEEPLEARNINGNO3.ipynb",
      "provenance": [],
      "collapsed_sections": []
    },
    "kernelspec": {
      "name": "python3",
      "display_name": "Python 3"
    },
    "language_info": {
      "name": "python"
    }
  },
  "cells": [
    {
      "cell_type": "code",
      "metadata": {
        "id": "TEuGWerLXiNL"
      },
      "source": [
        "from keras.datasets import cifar10\n",
        "import matplotlib.pyplot as plt\n",
        "import pandas as pd\n",
        "import tensorflow as tf\n",
        "import numpy as np"
      ],
      "execution_count": null,
      "outputs": []
    },
    {
      "cell_type": "code",
      "metadata": {
        "id": "SfCAzdr2XjYo"
      },
      "source": [
        "dataset = cifar10.load_data()"
      ],
      "execution_count": null,
      "outputs": []
    },
    {
      "cell_type": "code",
      "metadata": {
        "id": "X3ksKvxMXjkW"
      },
      "source": [
        "(trainx, trainy),(testx, testy) = cifar10.load_data()"
      ],
      "execution_count": null,
      "outputs": []
    },
    {
      "cell_type": "code",
      "metadata": {
        "id": "Q6ua4DyaXjw2"
      },
      "source": [
        "# automobile, cat, dog, and truck class is 1,3,5,9 on cifar 10\n",
        "target = [1,3,5,9]\n",
        "trainx_new = []\n",
        "trainy_new = []\n",
        "testx_new = []\n",
        "testy_new = []\n",
        "\n",
        "\n",
        "#remove unnecessary images for trainy\n",
        "for i,j in enumerate(trainy):\n",
        "  if j in target:\n",
        "    trainx_new.append(trainx[i])\n",
        "    trainy_new.append(trainy[i])\n",
        "\n",
        "#remove unnecessary images for testy\n",
        "for i,j in enumerate(testy):\n",
        "  if j in target:\n",
        "    testx_new.append(testx[i])\n",
        "    testy_new.append(testy[i]) "
      ],
      "execution_count": null,
      "outputs": []
    },
    {
      "cell_type": "code",
      "metadata": {
        "id": "hQxev6l-Xj6L"
      },
      "source": [
        "# Turn training and testing data into numpy array\n",
        "trainx_new = np.array(trainx_new)\n",
        "trainy_new = np.array(trainy_new)\n",
        "testx_new = np.array(testx_new)\n",
        "testy_new = np.array(testy_new)"
      ],
      "execution_count": null,
      "outputs": []
    },
    {
      "cell_type": "code",
      "metadata": {
        "id": "J4VSRkPeXkG6"
      },
      "source": [
        "from tensorflow.keras.utils import to_categorical\n",
        " #target coloumn apply to_catgorical\n",
        "trainy_new = to_categorical(trainy_new)\n",
        "testy_new = to_categorical(testy_new)"
      ],
      "execution_count": null,
      "outputs": []
    },
    {
      "cell_type": "code",
      "metadata": {
        "id": "3xd7DMJyXkUn"
      },
      "source": [
        "# Define the model with the criteria\n",
        "from tensorflow.keras import preprocessing\n",
        "from tensorflow.keras import Sequential\n",
        "from tensorflow.keras.layers import BatchNormalization, Conv2D, MaxPooling2D, Dense, Flatten\n",
        "from tensorflow import keras\n",
        "    \n",
        "model=Sequential()\n",
        "\n",
        "model.add(Conv2D(16,(3,3),activation='relu',input_shape=(32,32,3)))\n",
        "model.add(BatchNormalization())\n",
        "model.add(MaxPooling2D(pool_size=(2,2)))\n",
        "\n",
        "model.add(Conv2D(32,(3,3),activation='relu'))\n",
        "model.add(BatchNormalization())\n",
        "model.add(MaxPooling2D(pool_size=(2,2)))\n",
        "\n",
        "model.add(Conv2D(64,(3,3),activation='relu'))\n",
        "model.add(BatchNormalization())\n",
        "model.add(MaxPooling2D(pool_size=(2,2)))\n",
        "model.add(Flatten())\n",
        "\n",
        "model.add(Dense(32,activation='relu'))\n",
        "model.add(BatchNormalization())\n",
        "\n",
        "model.add(Dense(64,activation='relu'))\n",
        "model.add(BatchNormalization())\n",
        "\n",
        "model.add(Dense(10,activation='softmax'))"
      ],
      "execution_count": null,
      "outputs": []
    },
    {
      "cell_type": "code",
      "metadata": {
        "id": "If7dzobkXki6"
      },
      "source": [
        "#Compile the model\n",
        "model.compile(\n",
        "    loss='categorical_crossentropy', \n",
        "    optimizer='adam', \n",
        "    metrics=['accuracy']\n",
        ")"
      ],
      "execution_count": null,
      "outputs": []
    },
    {
      "cell_type": "code",
      "metadata": {
        "id": "59hufCMhX3x2",
        "colab": {
          "base_uri": "https://localhost:8080/"
        },
        "outputId": "a16b008f-3d17-4c36-d7e2-1f12e4b59a74"
      },
      "source": [
        "#Fit the model with the training data\n",
        "model.fit(\n",
        "    trainx_new,\n",
        "    trainy_new, \n",
        "    epochs=15,\n",
        "    validation_data= (testx_new,testy_new)\n",
        ")"
      ],
      "execution_count": null,
      "outputs": [
        {
          "output_type": "stream",
          "name": "stdout",
          "text": [
            "Epoch 1/15\n",
            "625/625 [==============================] - 26s 39ms/step - loss: 0.9954 - accuracy: 0.5900 - val_loss: 0.8336 - val_accuracy: 0.6205\n",
            "Epoch 2/15\n",
            "625/625 [==============================] - 24s 38ms/step - loss: 0.6895 - accuracy: 0.6944 - val_loss: 0.6820 - val_accuracy: 0.6977\n",
            "Epoch 3/15\n",
            "625/625 [==============================] - 24s 39ms/step - loss: 0.6055 - accuracy: 0.7346 - val_loss: 0.9115 - val_accuracy: 0.6263\n",
            "Epoch 4/15\n",
            "625/625 [==============================] - 24s 38ms/step - loss: 0.5480 - accuracy: 0.7625 - val_loss: 0.8414 - val_accuracy: 0.6850\n",
            "Epoch 5/15\n",
            "625/625 [==============================] - 24s 38ms/step - loss: 0.5029 - accuracy: 0.7864 - val_loss: 0.7118 - val_accuracy: 0.6942\n",
            "Epoch 6/15\n",
            "625/625 [==============================] - 24s 38ms/step - loss: 0.4558 - accuracy: 0.8051 - val_loss: 0.5837 - val_accuracy: 0.7525\n",
            "Epoch 7/15\n",
            "625/625 [==============================] - 24s 39ms/step - loss: 0.4286 - accuracy: 0.8201 - val_loss: 0.5626 - val_accuracy: 0.7678\n",
            "Epoch 8/15\n",
            "625/625 [==============================] - 24s 38ms/step - loss: 0.3941 - accuracy: 0.8343 - val_loss: 0.6005 - val_accuracy: 0.7570\n",
            "Epoch 9/15\n",
            "625/625 [==============================] - 24s 38ms/step - loss: 0.3667 - accuracy: 0.8487 - val_loss: 0.5855 - val_accuracy: 0.7670\n",
            "Epoch 10/15\n",
            "625/625 [==============================] - 24s 38ms/step - loss: 0.3386 - accuracy: 0.8625 - val_loss: 0.6976 - val_accuracy: 0.7387\n",
            "Epoch 11/15\n",
            "625/625 [==============================] - 24s 38ms/step - loss: 0.3116 - accuracy: 0.8745 - val_loss: 0.6645 - val_accuracy: 0.7567\n",
            "Epoch 12/15\n",
            "625/625 [==============================] - 24s 39ms/step - loss: 0.2923 - accuracy: 0.8798 - val_loss: 0.6191 - val_accuracy: 0.7715\n",
            "Epoch 13/15\n",
            "625/625 [==============================] - 25s 39ms/step - loss: 0.2682 - accuracy: 0.8928 - val_loss: 0.5842 - val_accuracy: 0.7940\n",
            "Epoch 14/15\n",
            "625/625 [==============================] - 24s 39ms/step - loss: 0.2591 - accuracy: 0.8961 - val_loss: 0.6500 - val_accuracy: 0.7605\n",
            "Epoch 15/15\n",
            "625/625 [==============================] - 24s 39ms/step - loss: 0.2372 - accuracy: 0.9071 - val_loss: 0.9120 - val_accuracy: 0.7165\n"
          ]
        },
        {
          "output_type": "execute_result",
          "data": {
            "text/plain": [
              "<keras.callbacks.History at 0x7f4a40b1e290>"
            ]
          },
          "metadata": {},
          "execution_count": 9
        }
      ]
    },
    {
      "cell_type": "code",
      "metadata": {
        "colab": {
          "base_uri": "https://localhost:8080/"
        },
        "id": "dMtr_UZVqoOr",
        "outputId": "70255b7c-3951-4f57-8367-18a71ea276a3"
      },
      "source": [
        "#show confusion matrix\n",
        "from sklearn.metrics import classification_report, confusion_matrix\n",
        "\n",
        "predict_y = model.predict(testx, batch_size=64, verbose=1)\n",
        "predict_y_indicator = np.argmax(predict_y, axis=1)\n",
        "\n",
        "print(classification_report(testy, predict_y_indicator))"
      ],
      "execution_count": null,
      "outputs": [
        {
          "output_type": "stream",
          "name": "stdout",
          "text": [
            "157/157 [==============================] - 3s 20ms/step\n",
            "              precision    recall  f1-score   support\n",
            "\n",
            "           0       0.00      0.00      0.00      1000\n",
            "           1       0.38      0.91      0.54      1000\n",
            "           2       0.00      0.00      0.00      1000\n",
            "           3       0.18      0.83      0.30      1000\n",
            "           4       0.00      0.00      0.00      1000\n",
            "           5       0.28      0.56      0.37      1000\n",
            "           6       0.00      0.00      0.00      1000\n",
            "           7       0.00      0.00      0.00      1000\n",
            "           8       0.00      0.00      0.00      1000\n",
            "           9       0.58      0.56      0.57      1000\n",
            "\n",
            "    accuracy                           0.29     10000\n",
            "   macro avg       0.14      0.29      0.18     10000\n",
            "weighted avg       0.14      0.29      0.18     10000\n",
            "\n"
          ]
        },
        {
          "output_type": "stream",
          "name": "stderr",
          "text": [
            "/usr/local/lib/python3.7/dist-packages/sklearn/metrics/_classification.py:1308: UndefinedMetricWarning: Precision and F-score are ill-defined and being set to 0.0 in labels with no predicted samples. Use `zero_division` parameter to control this behavior.\n",
            "  _warn_prf(average, modifier, msg_start, len(result))\n",
            "/usr/local/lib/python3.7/dist-packages/sklearn/metrics/_classification.py:1308: UndefinedMetricWarning: Precision and F-score are ill-defined and being set to 0.0 in labels with no predicted samples. Use `zero_division` parameter to control this behavior.\n",
            "  _warn_prf(average, modifier, msg_start, len(result))\n",
            "/usr/local/lib/python3.7/dist-packages/sklearn/metrics/_classification.py:1308: UndefinedMetricWarning: Precision and F-score are ill-defined and being set to 0.0 in labels with no predicted samples. Use `zero_division` parameter to control this behavior.\n",
            "  _warn_prf(average, modifier, msg_start, len(result))\n"
          ]
        }
      ]
    },
    {
      "cell_type": "code",
      "metadata": {
        "colab": {
          "base_uri": "https://localhost:8080/"
        },
        "id": "oVsbOX8IrVRd",
        "outputId": "1c9c7b3b-8c41-4166-a247-50fac21e6de6"
      },
      "source": [
        "#Print confusion matrix vertically\n",
        "\n",
        "Conf = confusion_matrix(testy, predict_y_indicator)\n",
        "print(Conf)"
      ],
      "execution_count": null,
      "outputs": [
        {
          "output_type": "stream",
          "name": "stdout",
          "text": [
            "[[  0 395   0 395   0  88   0   0   0 122]\n",
            " [  0 913   0  41   0  18   0   0   0  28]\n",
            " [  0  60   0 671   0 253   0   0   0  16]\n",
            " [  0  23   0 834   0 134   0   0   0   9]\n",
            " [  0  46   0 686   0 257   0   0   0  11]\n",
            " [  0   8   0 429   0 561   0   0   0   2]\n",
            " [  0  63   0 802   0 131   0   0   0   4]\n",
            " [  0  83   0 413   0 464   0   0   0  40]\n",
            " [  0 510   0 270   0  44   0   0   0 176]\n",
            " [  0 302   0  85   0  55   0   0   0 558]]\n"
          ]
        }
      ]
    },
    {
      "cell_type": "code",
      "metadata": {
        "colab": {
          "base_uri": "https://localhost:8080/"
        },
        "id": "2rXzrXr-c55p",
        "outputId": "e2e8986f-1bd6-4e80-ac53-b4363ed0eefa"
      },
      "source": [
        "model.summary()"
      ],
      "execution_count": null,
      "outputs": [
        {
          "output_type": "stream",
          "name": "stdout",
          "text": [
            "Model: \"sequential\"\n",
            "_________________________________________________________________\n",
            " Layer (type)                Output Shape              Param #   \n",
            "=================================================================\n",
            " conv2d (Conv2D)             (None, 30, 30, 16)        448       \n",
            "                                                                 \n",
            " batch_normalization (BatchN  (None, 30, 30, 16)       64        \n",
            " ormalization)                                                   \n",
            "                                                                 \n",
            " max_pooling2d (MaxPooling2D  (None, 15, 15, 16)       0         \n",
            " )                                                               \n",
            "                                                                 \n",
            " conv2d_1 (Conv2D)           (None, 13, 13, 32)        4640      \n",
            "                                                                 \n",
            " batch_normalization_1 (Batc  (None, 13, 13, 32)       128       \n",
            " hNormalization)                                                 \n",
            "                                                                 \n",
            " max_pooling2d_1 (MaxPooling  (None, 6, 6, 32)         0         \n",
            " 2D)                                                             \n",
            "                                                                 \n",
            " conv2d_2 (Conv2D)           (None, 4, 4, 64)          18496     \n",
            "                                                                 \n",
            " batch_normalization_2 (Batc  (None, 4, 4, 64)         256       \n",
            " hNormalization)                                                 \n",
            "                                                                 \n",
            " max_pooling2d_2 (MaxPooling  (None, 2, 2, 64)         0         \n",
            " 2D)                                                             \n",
            "                                                                 \n",
            " flatten (Flatten)           (None, 256)               0         \n",
            "                                                                 \n",
            " dense (Dense)               (None, 32)                8224      \n",
            "                                                                 \n",
            " batch_normalization_3 (Batc  (None, 32)               128       \n",
            " hNormalization)                                                 \n",
            "                                                                 \n",
            " dense_1 (Dense)             (None, 64)                2112      \n",
            "                                                                 \n",
            " batch_normalization_4 (Batc  (None, 64)               256       \n",
            " hNormalization)                                                 \n",
            "                                                                 \n",
            " dense_2 (Dense)             (None, 10)                650       \n",
            "                                                                 \n",
            "=================================================================\n",
            "Total params: 35,402\n",
            "Trainable params: 34,986\n",
            "Non-trainable params: 416\n",
            "_________________________________________________________________\n"
          ]
        }
      ]
    },
    {
      "cell_type": "code",
      "metadata": {
        "colab": {
          "base_uri": "https://localhost:8080/",
          "height": 862
        },
        "id": "JgHLgXp7sTx8",
        "outputId": "af241d96-df79-4b3e-c0a1-f10719c3e195"
      },
      "source": [
        "# plot the confuson matrix\n",
        "#Only shown class 1,3,5,9 because the other class isnt asked on the task\n",
        "import seaborn as sns\n",
        "\n",
        "fig= plt.figure(figsize=(15,15))\n",
        "conf_matrix = Conf\n",
        "sns.heatmap(data=conf_matrix,annot=True)\n",
        "plt.show()\n"
      ],
      "execution_count": null,
      "outputs": [
        {
          "output_type": "display_data",
          "data": {
            "image/png": "[encoded data removed]",
            "text/plain": [
              "<Figure size 1080x1080 with 2 Axes>"
            ]
          },
          "metadata": {
            "needs_background": "light"
          }
        }
      ]
    }
  ]
}